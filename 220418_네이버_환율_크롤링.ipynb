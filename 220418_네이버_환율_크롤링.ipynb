{
  "nbformat": 4,
  "nbformat_minor": 0,
  "metadata": {
    "colab": {
      "name": "220418 네이버 환율 크롤링 ",
      "provenance": [],
      "authorship_tag": "ABX9TyMhspkBZq+VV24qA9Wmyz+E",
      "include_colab_link": true
    },
    "kernelspec": {
      "name": "python3",
      "display_name": "Python 3"
    },
    "language_info": {
      "name": "python"
    }
  },
  "cells": [
    {
      "cell_type": "markdown",
      "metadata": {
        "id": "view-in-github",
        "colab_type": "text"
      },
      "source": [
        "<a href=\"https://colab.research.google.com/github/jen-yunjimin/Data_Crawling_Practice/blob/master/220418_%EB%84%A4%EC%9D%B4%EB%B2%84_%ED%99%98%EC%9C%A8_%ED%81%AC%EB%A1%A4%EB%A7%81.ipynb\" target=\"_parent\"><img src=\"https://colab.research.google.com/assets/colab-badge.svg\" alt=\"Open In Colab\"/></a>"
      ]
    },
    {
      "cell_type": "code",
      "execution_count": 26,
      "metadata": {
        "id": "NFvkerN5v8lc"
      },
      "outputs": [],
      "source": [
        "from bs4 import BeautifulSoup\n",
        "import requests"
      ]
    },
    {
      "cell_type": "code",
      "source": [
        "URL = \"https://finance.naver.com/marketindex/\""
      ],
      "metadata": {
        "id": "iSMc1oKxwJF5"
      },
      "execution_count": 27,
      "outputs": []
    },
    {
      "cell_type": "code",
      "source": [
        "response = requests.get(URL)\n",
        "page = response.content # 접속한 웹사이트의 html 코드를 가져오기"
      ],
      "metadata": {
        "id": "b4jli2OJwWqc"
      },
      "execution_count": 28,
      "outputs": []
    },
    {
      "cell_type": "code",
      "source": [
        "soup = BeautifulSoup(page, 'html.parser') # html 불러오기"
      ],
      "metadata": {
        "id": "X_iw6bS5weYE"
      },
      "execution_count": 29,
      "outputs": []
    },
    {
      "cell_type": "code",
      "source": [
        "exchange_list = soup.select_one(\"#exchangeList\") # 환전고시환율 가져오기"
      ],
      "metadata": {
        "id": "IKiFRr2_LIQe"
      },
      "execution_count": 30,
      "outputs": []
    },
    {
      "cell_type": "code",
      "source": [
        "fin_list = exchange_list.find_all(\"li\") # 환전고시환율에서 리스트 뽑기 (미국, 일본, 유럽연합, 중국)\n",
        "fin_list"
      ],
      "metadata": {
        "id": "Ptn7jrv7wqPX",
        "colab": {
          "base_uri": "https://localhost:8080/"
        },
        "outputId": "98b78b35-e26f-4889-82eb-4deb2076b282"
      },
      "execution_count": 31,
      "outputs": [
        {
          "output_type": "execute_result",
          "data": {
            "text/plain": [
              "[<li class=\"on\">\n",
              " <a class=\"head usd\" href=\"/marketindex/exchangeDetail.naver?marketindexCd=FX_USDKRW\" onclick=\"clickcr(this, 'fr1.usdt', '', '', event);\">\n",
              " <h3 class=\"h_lst\"><span class=\"blind\">미국 USD</span></h3>\n",
              " <div class=\"head_info point_up\">\n",
              " <span class=\"value\">1,235.00</span>\n",
              " <span class=\"txt_krw\"><span class=\"blind\">원</span></span>\n",
              " <span class=\"change\">5.50</span>\n",
              " <span class=\"blind\">상승</span>\n",
              " </div>\n",
              " </a>\n",
              " <a class=\"graph_img\" href=\"/marketindex/exchangeDetail.naver?marketindexCd=FX_USDKRW\" onclick=\"clickcr(this, 'fr1.usdc', '', '', event);\">\n",
              " <img alt=\"\" height=\"153\" src=\"https://ssl.pstatic.net/imgfinance/chart/marketindex/FX_USDKRW.png\" width=\"295\"/>\n",
              " </a>\n",
              " <div class=\"graph_info\">\n",
              " <span class=\"time\">2022.04.18 20:00</span>\n",
              " <span class=\"source\">하나은행 기준</span>\n",
              " <span class=\"count\">고시회차<span class=\"num\">187</span>회</span>\n",
              " </div>\n",
              " </li>, <li class=\"\">\n",
              " <a class=\"head jpy\" href=\"/marketindex/exchangeDetail.naver?marketindexCd=FX_JPYKRW\" onclick=\"clickcr(this, 'fr1.jpyt', '', '', event);\">\n",
              " <h3 class=\"h_lst\"><span class=\"blind\">일본 JPY(100엔)</span></h3>\n",
              " <div class=\"head_info point_up\">\n",
              " <span class=\"value\">975.32</span>\n",
              " <span class=\"txt_krw\"><span class=\"blind\">원</span></span>\n",
              " <span class=\"change\">3.04</span>\n",
              " <span class=\"blind\">상승</span>\n",
              " </div>\n",
              " </a>\n",
              " <a class=\"graph_img\" href=\"/marketindex/exchangeDetail.naver?marketindexCd=FX_JPYKRW\" onclick=\"clickcr(this, 'fr1.jpyc', '', '', event);\">\n",
              " <img alt=\"\" height=\"153\" src=\"https://ssl.pstatic.net/imgfinance/chart/marketindex/FX_JPYKRW.png\" width=\"295\"/>\n",
              " </a>\n",
              " <div class=\"graph_info\">\n",
              " <span class=\"time\">2022.04.18 20:00</span>\n",
              " <span class=\"source\">하나은행 기준</span>\n",
              " <span class=\"count\">고시회차<span class=\"num\">187</span>회</span>\n",
              " </div>\n",
              " </li>, <li class=\"\">\n",
              " <a class=\"head eur\" href=\"/marketindex/exchangeDetail.naver?marketindexCd=FX_EURKRW\" onclick=\"clickcr(this, 'fr1.eurt', '', '', event);\">\n",
              " <h3 class=\"h_lst\"><span class=\"blind\">유럽연합 EUR</span></h3>\n",
              " <div class=\"head_info point_up\">\n",
              " <span class=\"value\">1,333.92</span>\n",
              " <span class=\"txt_krw\"><span class=\"blind\">원</span></span>\n",
              " <span class=\"change\">5.08</span>\n",
              " <span class=\"blind\">상승</span>\n",
              " </div>\n",
              " </a>\n",
              " <a class=\"graph_img\" href=\"/marketindex/exchangeDetail.naver?marketindexCd=FX_EURKRW\" onclick=\"clickcr(this, 'fr1.eurc', '', '', event);\">\n",
              " <img alt=\"\" height=\"153\" src=\"https://ssl.pstatic.net/imgfinance/chart/marketindex/FX_EURKRW.png\" width=\"295\"/>\n",
              " </a>\n",
              " <div class=\"graph_info\">\n",
              " <span class=\"time\">2022.04.18 20:00</span>\n",
              " <span class=\"source\">하나은행 기준</span>\n",
              " <span class=\"count\">고시회차<span class=\"num\">187</span>회</span>\n",
              " </div>\n",
              " </li>, <li class=\"\">\n",
              " <a class=\"head cny\" href=\"/marketindex/exchangeDetail.naver?marketindexCd=FX_CNYKRW\" onclick=\"clickcr(this, 'fr1.cnyt', '', '', event);\">\n",
              " <h3 class=\"h_lst\"><span class=\"blind\">중국 CNY</span></h3>\n",
              " <div class=\"head_info point_up\">\n",
              " <span class=\"value\">193.71</span>\n",
              " <span class=\"txt_krw\"><span class=\"blind\">원</span></span>\n",
              " <span class=\"change\">1.09</span>\n",
              " <span class=\"blind\">상승</span>\n",
              " </div>\n",
              " </a>\n",
              " <a class=\"graph_img\" href=\"/marketindex/exchangeDetail.naver?marketindexCd=FX_CNYKRW\" onclick=\"clickcr(this, 'fr1.cnyc', '', '', event);\">\n",
              " <img alt=\"\" height=\"153\" src=\"https://ssl.pstatic.net/imgfinance/chart/marketindex/FX_CNYKRW.png\" width=\"295\"/>\n",
              " </a>\n",
              " <div class=\"graph_info\">\n",
              " <span class=\"time\">2022.04.18 20:00</span>\n",
              " <span class=\"source\">하나은행 기준</span>\n",
              " <span class=\"count\">고시회차<span class=\"num\">187</span>회</span>\n",
              " </div>\n",
              " </li>]"
            ]
          },
          "metadata": {},
          "execution_count": 31
        }
      ]
    },
    {
      "cell_type": "code",
      "source": [
        "sample_li = fin_list[0] # 위에서 뽑은 리스트에서 미국 가져오기\n",
        "sample_li"
      ],
      "metadata": {
        "colab": {
          "base_uri": "https://localhost:8080/"
        },
        "id": "byvo-lYqK-eL",
        "outputId": "1dabb7ca-d7e9-44e7-a2a6-15aff2c693e9"
      },
      "execution_count": 32,
      "outputs": [
        {
          "output_type": "execute_result",
          "data": {
            "text/plain": [
              "<li class=\"on\">\n",
              "<a class=\"head usd\" href=\"/marketindex/exchangeDetail.naver?marketindexCd=FX_USDKRW\" onclick=\"clickcr(this, 'fr1.usdt', '', '', event);\">\n",
              "<h3 class=\"h_lst\"><span class=\"blind\">미국 USD</span></h3>\n",
              "<div class=\"head_info point_up\">\n",
              "<span class=\"value\">1,235.00</span>\n",
              "<span class=\"txt_krw\"><span class=\"blind\">원</span></span>\n",
              "<span class=\"change\">5.50</span>\n",
              "<span class=\"blind\">상승</span>\n",
              "</div>\n",
              "</a>\n",
              "<a class=\"graph_img\" href=\"/marketindex/exchangeDetail.naver?marketindexCd=FX_USDKRW\" onclick=\"clickcr(this, 'fr1.usdc', '', '', event);\">\n",
              "<img alt=\"\" height=\"153\" src=\"https://ssl.pstatic.net/imgfinance/chart/marketindex/FX_USDKRW.png\" width=\"295\"/>\n",
              "</a>\n",
              "<div class=\"graph_info\">\n",
              "<span class=\"time\">2022.04.18 20:00</span>\n",
              "<span class=\"source\">하나은행 기준</span>\n",
              "<span class=\"count\">고시회차<span class=\"num\">187</span>회</span>\n",
              "</div>\n",
              "</li>"
            ]
          },
          "metadata": {},
          "execution_count": 32
        }
      ]
    },
    {
      "cell_type": "code",
      "source": [
        "# sample_li에서 통화 이름 가져오기(1)\n",
        "c_name = sample_li.find(\"h3\",{\"class\":\"h_lst\"}).text\n",
        "c_name"
      ],
      "metadata": {
        "colab": {
          "base_uri": "https://localhost:8080/",
          "height": 35
        },
        "id": "BkBdggstMM2H",
        "outputId": "00c87389-f8ac-495e-b5ea-d7c88b4ec79e"
      },
      "execution_count": 33,
      "outputs": [
        {
          "output_type": "execute_result",
          "data": {
            "text/plain": [
              "'미국 USD'"
            ],
            "application/vnd.google.colaboratory.intrinsic+json": {
              "type": "string"
            }
          },
          "metadata": {},
          "execution_count": 33
        }
      ]
    },
    {
      "cell_type": "code",
      "source": [
        "# sample_li에서 통화 이름 가져오기(2)\n",
        "c_name = sample_li.select_one('h3.h_lst').text\n",
        "c_name"
      ],
      "metadata": {
        "colab": {
          "base_uri": "https://localhost:8080/",
          "height": 35
        },
        "id": "zrz8mParMuxO",
        "outputId": "ebdbc7a8-31e0-4deb-d586-37a0d41ce200"
      },
      "execution_count": 34,
      "outputs": [
        {
          "output_type": "execute_result",
          "data": {
            "text/plain": [
              "'미국 USD'"
            ],
            "application/vnd.google.colaboratory.intrinsic+json": {
              "type": "string"
            }
          },
          "metadata": {},
          "execution_count": 34
        }
      ]
    },
    {
      "cell_type": "code",
      "source": [
        "# sample_li에서 미국 환율 가져오기\n",
        "exchange_rate = sample_li.select_one(\"span.value\").text\n",
        "exchange_rate"
      ],
      "metadata": {
        "colab": {
          "base_uri": "https://localhost:8080/",
          "height": 35
        },
        "id": "lGx03q92M4vc",
        "outputId": "539f7b50-06a6-41fa-cd2c-b0282d1df993"
      },
      "execution_count": 35,
      "outputs": [
        {
          "output_type": "execute_result",
          "data": {
            "text/plain": [
              "'1,235.00'"
            ],
            "application/vnd.google.colaboratory.intrinsic+json": {
              "type": "string"
            }
          },
          "metadata": {},
          "execution_count": 35
        }
      ]
    },
    {
      "cell_type": "code",
      "source": [
        "# sample_li에서 미국 환율 변동 가져오기\n",
        "us_change = sample_li.select_one(\"span.change\").text\n",
        "us_change"
      ],
      "metadata": {
        "colab": {
          "base_uri": "https://localhost:8080/",
          "height": 35
        },
        "id": "87R6PlCTNSqr",
        "outputId": "11e1d6ea-f215-460f-bd87-273a96a8420d"
      },
      "execution_count": 36,
      "outputs": [
        {
          "output_type": "execute_result",
          "data": {
            "text/plain": [
              "'5.50'"
            ],
            "application/vnd.google.colaboratory.intrinsic+json": {
              "type": "string"
            }
          },
          "metadata": {},
          "execution_count": 36
        }
      ]
    },
    {
      "cell_type": "code",
      "source": [
        "updown = sample_li.select(\"span.blind\")\n",
        "updown[-1].text"
      ],
      "metadata": {
        "colab": {
          "base_uri": "https://localhost:8080/",
          "height": 35
        },
        "id": "NFthqkHrNo2e",
        "outputId": "b9d6b388-1ca6-412d-f8f1-2cc0755cdaf8"
      },
      "execution_count": 37,
      "outputs": [
        {
          "output_type": "execute_result",
          "data": {
            "text/plain": [
              "'상승'"
            ],
            "application/vnd.google.colaboratory.intrinsic+json": {
              "type": "string"
            }
          },
          "metadata": {},
          "execution_count": 37
        }
      ]
    },
    {
      "cell_type": "code",
      "source": [
        "for fin in fin_list:\n",
        "  c_name = fin.select_one('h3.h_lst').text\n",
        "  exchange_rate = fin.select_one(\"span.value\").text\n",
        "  us_change = fin.select_one(\"span.change\").text\n",
        "  updown = fin.select_one(\"span.change\").nextSibling.nextSibling.text\n",
        "\n",
        "  print(c_name, exchange_rate, us_change, updown)"
      ],
      "metadata": {
        "colab": {
          "base_uri": "https://localhost:8080/"
        },
        "id": "E05xd8lQQJYS",
        "outputId": "7583d282-8d6b-47f4-afa1-e6ad74bcbcd1"
      },
      "execution_count": 38,
      "outputs": [
        {
          "output_type": "stream",
          "name": "stdout",
          "text": [
            "미국 USD 1,235.00 5.50 상승\n",
            "일본 JPY(100엔) 975.32 3.04 상승\n",
            "유럽연합 EUR 1,333.92 5.08 상승\n",
            "중국 CNY 193.71 1.09 상승\n"
          ]
        }
      ]
    },
    {
      "cell_type": "code",
      "source": [
        "c_name_list = []\n",
        "exchange_rate_list = []\n",
        "us_change_list = []\n",
        "updown_list = []\n",
        "\n",
        "for fin in fin_list:\n",
        "  c_name = fin.select_one('h3.h_lst').text\n",
        "  exchange_rate = fin.select_one(\"span.value\").text\n",
        "  us_change = fin.select_one(\"span.change\").text\n",
        "  updown = fin.select_one(\"span.change\").nextSibling.nextSibling.text\n",
        "\n",
        "  print(c_name, exchange_rate, us_change, updown)\n",
        "  c_name_list.append(c_name)\n",
        "  exchange_rate_list.append(exchange_rate)\n",
        "  us_change_list.append(us_change)\n",
        "  updown_list.append(updown)"
      ],
      "metadata": {
        "colab": {
          "base_uri": "https://localhost:8080/"
        },
        "id": "HcnyV4IaRUAh",
        "outputId": "5abcd7b5-16eb-4766-e163-a1789fa0f018"
      },
      "execution_count": 39,
      "outputs": [
        {
          "output_type": "stream",
          "name": "stdout",
          "text": [
            "미국 USD 1,235.00 5.50 상승\n",
            "일본 JPY(100엔) 975.32 3.04 상승\n",
            "유럽연합 EUR 1,333.92 5.08 상승\n",
            "중국 CNY 193.71 1.09 상승\n"
          ]
        }
      ]
    },
    {
      "cell_type": "code",
      "source": [
        "fin_datas = {\n",
        "    \"국가\":c_name_list,\n",
        "    \"환율\":exchange_rate_list,\n",
        "    \"변동\":us_change_list,\n",
        "    \"등락\":updown_list\n",
        "}\n",
        "\n",
        "fin_datas\n"
      ],
      "metadata": {
        "colab": {
          "base_uri": "https://localhost:8080/"
        },
        "id": "_j7f4ppLS8Su",
        "outputId": "7f772f9e-d1c2-436f-c97e-b8938b18e7bb"
      },
      "execution_count": 40,
      "outputs": [
        {
          "output_type": "execute_result",
          "data": {
            "text/plain": [
              "{'국가': ['미국 USD', '일본 JPY(100엔)', '유럽연합 EUR', '중국 CNY'],\n",
              " '등락': ['상승', '상승', '상승', '상승'],\n",
              " '변동': ['5.50', '3.04', '5.08', '1.09'],\n",
              " '환율': ['1,235.00', '975.32', '1,333.92', '193.71']}"
            ]
          },
          "metadata": {},
          "execution_count": 40
        }
      ]
    },
    {
      "cell_type": "code",
      "source": [
        "import pandas as pd\n",
        "df_finance = pd.DataFrame(fin_datas)\n",
        "df_finance.to_csv(\"fin_220418.csv\")\n",
        "df_finance"
      ],
      "metadata": {
        "colab": {
          "base_uri": "https://localhost:8080/",
          "height": 174
        },
        "id": "22D-YChjTVGF",
        "outputId": "dda629f5-1a9b-476b-f1bc-d5e22e736a0b"
      },
      "execution_count": 41,
      "outputs": [
        {
          "output_type": "execute_result",
          "data": {
            "text/plain": [
              "             국가        환율    변동  등락\n",
              "0        미국 USD  1,235.00  5.50  상승\n",
              "1  일본 JPY(100엔)    975.32  3.04  상승\n",
              "2      유럽연합 EUR  1,333.92  5.08  상승\n",
              "3        중국 CNY    193.71  1.09  상승"
            ],
            "text/html": [
              "\n",
              "  <div id=\"df-12c65d3f-5ac4-44ad-8886-73e1cbf4239a\">\n",
              "    <div class=\"colab-df-container\">\n",
              "      <div>\n",
              "<style scoped>\n",
              "    .dataframe tbody tr th:only-of-type {\n",
              "        vertical-align: middle;\n",
              "    }\n",
              "\n",
              "    .dataframe tbody tr th {\n",
              "        vertical-align: top;\n",
              "    }\n",
              "\n",
              "    .dataframe thead th {\n",
              "        text-align: right;\n",
              "    }\n",
              "</style>\n",
              "<table border=\"1\" class=\"dataframe\">\n",
              "  <thead>\n",
              "    <tr style=\"text-align: right;\">\n",
              "      <th></th>\n",
              "      <th>국가</th>\n",
              "      <th>환율</th>\n",
              "      <th>변동</th>\n",
              "      <th>등락</th>\n",
              "    </tr>\n",
              "  </thead>\n",
              "  <tbody>\n",
              "    <tr>\n",
              "      <th>0</th>\n",
              "      <td>미국 USD</td>\n",
              "      <td>1,235.00</td>\n",
              "      <td>5.50</td>\n",
              "      <td>상승</td>\n",
              "    </tr>\n",
              "    <tr>\n",
              "      <th>1</th>\n",
              "      <td>일본 JPY(100엔)</td>\n",
              "      <td>975.32</td>\n",
              "      <td>3.04</td>\n",
              "      <td>상승</td>\n",
              "    </tr>\n",
              "    <tr>\n",
              "      <th>2</th>\n",
              "      <td>유럽연합 EUR</td>\n",
              "      <td>1,333.92</td>\n",
              "      <td>5.08</td>\n",
              "      <td>상승</td>\n",
              "    </tr>\n",
              "    <tr>\n",
              "      <th>3</th>\n",
              "      <td>중국 CNY</td>\n",
              "      <td>193.71</td>\n",
              "      <td>1.09</td>\n",
              "      <td>상승</td>\n",
              "    </tr>\n",
              "  </tbody>\n",
              "</table>\n",
              "</div>\n",
              "      <button class=\"colab-df-convert\" onclick=\"convertToInteractive('df-12c65d3f-5ac4-44ad-8886-73e1cbf4239a')\"\n",
              "              title=\"Convert this dataframe to an interactive table.\"\n",
              "              style=\"display:none;\">\n",
              "        \n",
              "  <svg xmlns=\"http://www.w3.org/2000/svg\" height=\"24px\"viewBox=\"0 0 24 24\"\n",
              "       width=\"24px\">\n",
              "    <path d=\"M0 0h24v24H0V0z\" fill=\"none\"/>\n",
              "    <path d=\"M18.56 5.44l.94 2.06.94-2.06 2.06-.94-2.06-.94-.94-2.06-.94 2.06-2.06.94zm-11 1L8.5 8.5l.94-2.06 2.06-.94-2.06-.94L8.5 2.5l-.94 2.06-2.06.94zm10 10l.94 2.06.94-2.06 2.06-.94-2.06-.94-.94-2.06-.94 2.06-2.06.94z\"/><path d=\"M17.41 7.96l-1.37-1.37c-.4-.4-.92-.59-1.43-.59-.52 0-1.04.2-1.43.59L10.3 9.45l-7.72 7.72c-.78.78-.78 2.05 0 2.83L4 21.41c.39.39.9.59 1.41.59.51 0 1.02-.2 1.41-.59l7.78-7.78 2.81-2.81c.8-.78.8-2.07 0-2.86zM5.41 20L4 18.59l7.72-7.72 1.47 1.35L5.41 20z\"/>\n",
              "  </svg>\n",
              "      </button>\n",
              "      \n",
              "  <style>\n",
              "    .colab-df-container {\n",
              "      display:flex;\n",
              "      flex-wrap:wrap;\n",
              "      gap: 12px;\n",
              "    }\n",
              "\n",
              "    .colab-df-convert {\n",
              "      background-color: #E8F0FE;\n",
              "      border: none;\n",
              "      border-radius: 50%;\n",
              "      cursor: pointer;\n",
              "      display: none;\n",
              "      fill: #1967D2;\n",
              "      height: 32px;\n",
              "      padding: 0 0 0 0;\n",
              "      width: 32px;\n",
              "    }\n",
              "\n",
              "    .colab-df-convert:hover {\n",
              "      background-color: #E2EBFA;\n",
              "      box-shadow: 0px 1px 2px rgba(60, 64, 67, 0.3), 0px 1px 3px 1px rgba(60, 64, 67, 0.15);\n",
              "      fill: #174EA6;\n",
              "    }\n",
              "\n",
              "    [theme=dark] .colab-df-convert {\n",
              "      background-color: #3B4455;\n",
              "      fill: #D2E3FC;\n",
              "    }\n",
              "\n",
              "    [theme=dark] .colab-df-convert:hover {\n",
              "      background-color: #434B5C;\n",
              "      box-shadow: 0px 1px 3px 1px rgba(0, 0, 0, 0.15);\n",
              "      filter: drop-shadow(0px 1px 2px rgba(0, 0, 0, 0.3));\n",
              "      fill: #FFFFFF;\n",
              "    }\n",
              "  </style>\n",
              "\n",
              "      <script>\n",
              "        const buttonEl =\n",
              "          document.querySelector('#df-12c65d3f-5ac4-44ad-8886-73e1cbf4239a button.colab-df-convert');\n",
              "        buttonEl.style.display =\n",
              "          google.colab.kernel.accessAllowed ? 'block' : 'none';\n",
              "\n",
              "        async function convertToInteractive(key) {\n",
              "          const element = document.querySelector('#df-12c65d3f-5ac4-44ad-8886-73e1cbf4239a');\n",
              "          const dataTable =\n",
              "            await google.colab.kernel.invokeFunction('convertToInteractive',\n",
              "                                                     [key], {});\n",
              "          if (!dataTable) return;\n",
              "\n",
              "          const docLinkHtml = 'Like what you see? Visit the ' +\n",
              "            '<a target=\"_blank\" href=https://colab.research.google.com/notebooks/data_table.ipynb>data table notebook</a>'\n",
              "            + ' to learn more about interactive tables.';\n",
              "          element.innerHTML = '';\n",
              "          dataTable['output_type'] = 'display_data';\n",
              "          await google.colab.output.renderOutput(dataTable, element);\n",
              "          const docLink = document.createElement('div');\n",
              "          docLink.innerHTML = docLinkHtml;\n",
              "          element.appendChild(docLink);\n",
              "        }\n",
              "      </script>\n",
              "    </div>\n",
              "  </div>\n",
              "  "
            ]
          },
          "metadata": {},
          "execution_count": 41
        }
      ]
    }
  ]
}